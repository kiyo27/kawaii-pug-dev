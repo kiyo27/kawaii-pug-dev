{
 "cells": [
  {
   "cell_type": "code",
   "execution_count": 2,
   "id": "129cd506-5f5f-44ce-a2de-0965e5bde2b3",
   "metadata": {},
   "outputs": [],
   "source": [
    "import pandas as pd"
   ]
  },
  {
   "cell_type": "code",
   "execution_count": 8,
   "id": "51b87f05-c410-4c1f-af22-90611b01be24",
   "metadata": {},
   "outputs": [],
   "source": [
    "df = pd.read_csv('result.csv')"
   ]
  },
  {
   "cell_type": "code",
   "execution_count": 18,
   "id": "3800ea22-b2e3-446d-a2e8-f1f609560e40",
   "metadata": {},
   "outputs": [
    {
     "data": {
      "text/html": [
       "<div>\n",
       "<style scoped>\n",
       "    .dataframe tbody tr th:only-of-type {\n",
       "        vertical-align: middle;\n",
       "    }\n",
       "\n",
       "    .dataframe tbody tr th {\n",
       "        vertical-align: top;\n",
       "    }\n",
       "\n",
       "    .dataframe thead th {\n",
       "        text-align: right;\n",
       "    }\n",
       "</style>\n",
       "<table border=\"1\" class=\"dataframe\">\n",
       "  <thead>\n",
       "    <tr style=\"text-align: right;\">\n",
       "      <th></th>\n",
       "      <th>version</th>\n",
       "      <th>id</th>\n",
       "      <th>types</th>\n",
       "      <th>head</th>\n",
       "      <th>neck</th>\n",
       "      <th>mouth</th>\n",
       "      <th>eyes</th>\n",
       "      <th>goggle</th>\n",
       "      <th>nose</th>\n",
       "      <th>ears</th>\n",
       "      <th>skin</th>\n",
       "    </tr>\n",
       "  </thead>\n",
       "  <tbody>\n",
       "  </tbody>\n",
       "</table>\n",
       "</div>"
      ],
      "text/plain": [
       "Empty DataFrame\n",
       "Columns: [version, id, types, head, neck, mouth, eyes, goggle, nose, ears, skin]\n",
       "Index: []"
      ]
     },
     "execution_count": 18,
     "metadata": {},
     "output_type": "execute_result"
    }
   ],
   "source": [
    "unpivot = df.melt(id_vars='id')\n"
   ]
  },
  {
   "cell_type": "code",
   "execution_count": 19,
   "id": "7a17e0b6-8e82-4787-890b-a3ce0c2a4c18",
   "metadata": {},
   "outputs": [
    {
     "data": {
      "text/plain": [
       "1                     1000\n",
       "SleepingPug            510\n",
       "Pug                    490\n",
       "scarf                  260\n",
       "green-collar           253\n",
       "cigarette              123\n",
       "vape                   112\n",
       "tongue                 111\n",
       "pipe                   111\n",
       "medical-mask           105\n",
       "regular-shades          80\n",
       "classic-shades          58\n",
       "3d-glasses              58\n",
       "vr                      56\n",
       "eye-mask                55\n",
       "big-shades              53\n",
       "eye-patch               51\n",
       "nerd-glasses            48\n",
       "cross-eyed              48\n",
       "purple-eye-shadow       47\n",
       "mafia-glasses           46\n",
       "bucket-hat              44\n",
       "blue-eye-shadow         42\n",
       "black-glasses           41\n",
       "horned-rim-glasses      39\n",
       "mohawk                  39\n",
       "police-cap              39\n",
       "hat-and-flower          38\n",
       "hachimaki               32\n",
       "head-light              32\n",
       "cowboy-hat              32\n",
       "top-hat                 32\n",
       "crown                   31\n",
       "pilot-helmet            31\n",
       "tassle-hat              31\n",
       "wizard-hat              30\n",
       "stripe-ribbon           29\n",
       "hat-and-goggle          28\n",
       "beanie                  28\n",
       "headphone               28\n",
       "bandana                 27\n",
       "knitted-cap             27\n",
       "kasa                    27\n",
       "casual-knitted-cap      25\n",
       "cap-forward             25\n",
       "demon                   25\n",
       "welding-goggles         24\n",
       "headband                24\n",
       "silk-hat                24\n",
       "chonmage                24\n",
       "straw-hat               23\n",
       "fedora                  23\n",
       "big-hat                 21\n",
       "cap                     20\n",
       "clown-nose              12\n",
       "green-ears               7\n",
       "rainbow                  7\n",
       "golden-ears              4\n",
       "Name: value, dtype: int64"
      ]
     },
     "execution_count": 19,
     "metadata": {},
     "output_type": "execute_result"
    }
   ],
   "source": [
    "unpivot['value'].value_counts()"
   ]
  },
  {
   "cell_type": "code",
   "execution_count": null,
   "id": "390e8bee-c5d2-4634-92c1-36f905f794c3",
   "metadata": {},
   "outputs": [],
   "source": []
  }
 ],
 "metadata": {
  "kernelspec": {
   "display_name": "Python 3 (ipykernel)",
   "language": "python",
   "name": "python3"
  },
  "language_info": {
   "codemirror_mode": {
    "name": "ipython",
    "version": 3
   },
   "file_extension": ".py",
   "mimetype": "text/x-python",
   "name": "python",
   "nbconvert_exporter": "python",
   "pygments_lexer": "ipython3",
   "version": "3.10.0"
  }
 },
 "nbformat": 4,
 "nbformat_minor": 5
}
