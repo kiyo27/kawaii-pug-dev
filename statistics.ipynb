{
 "cells": [
  {
   "cell_type": "code",
   "execution_count": 1,
   "id": "129cd506-5f5f-44ce-a2de-0965e5bde2b3",
   "metadata": {},
   "outputs": [],
   "source": [
    "import pandas as pd"
   ]
  },
  {
   "cell_type": "code",
   "execution_count": 26,
   "id": "51b87f05-c410-4c1f-af22-90611b01be24",
   "metadata": {},
   "outputs": [],
   "source": [
    "df = pd.read_csv('result.csv')"
   ]
  },
  {
   "cell_type": "code",
   "execution_count": 27,
   "id": "3800ea22-b2e3-446d-a2e8-f1f609560e40",
   "metadata": {},
   "outputs": [],
   "source": [
    "unpivot = df.melt(id_vars='id')\n"
   ]
  },
  {
   "cell_type": "code",
   "execution_count": 28,
   "id": "7a17e0b6-8e82-4787-890b-a3ce0c2a4c18",
   "metadata": {},
   "outputs": [
    {
     "data": {
      "text/plain": [
       "Pug                   521\n",
       "SleepingPug           479\n",
       "scarf                 258\n",
       "green-collar          257\n",
       "medical-mask          120\n",
       "vape                  116\n",
       "tongue                107\n",
       "pipe                   99\n",
       "cigarette              94\n",
       "mafia-glasses          61\n",
       "regular-shades         58\n",
       "classic-shades         57\n",
       "eye-patch              57\n",
       "horned-rim-glasses     56\n",
       "black-glasses          55\n",
       "3d-glasses             55\n",
       "vr                     54\n",
       "cross-eyed             50\n",
       "eye-mask               49\n",
       "nerd-glasses           46\n",
       "big-shades             44\n",
       "blue-eye-shadow        40\n",
       "purple-eye-shadow      38\n",
       "mohawk                 36\n",
       "hat-and-goggle         35\n",
       "crown                  35\n",
       "big-hat                34\n",
       "cap                    33\n",
       "knitted-cap            32\n",
       "demon                  32\n",
       "silk-hat               32\n",
       "fedora                 32\n",
       "police-cap             32\n",
       "tassle-hat             31\n",
       "welding-goggles        31\n",
       "bucket-hat             31\n",
       "hat-and-flower         30\n",
       "top-hat                30\n",
       "head-light             30\n",
       "bandana                29\n",
       "headband               29\n",
       "headphone              29\n",
       "wizard-hat             28\n",
       "stripe-ribbon          28\n",
       "chonmage               26\n",
       "beanie                 26\n",
       "straw-hat              25\n",
       "hachimaki              24\n",
       "casual-knitted-cap     24\n",
       "cap-forward            23\n",
       "cowboy-hat             22\n",
       "pilot-helmet           21\n",
       "kasa                   18\n",
       "rainbow                15\n",
       "clown-nose             13\n",
       "golden-ears             5\n",
       "green-ears              4\n",
       "Name: value, dtype: int64"
      ]
     },
     "execution_count": 28,
     "metadata": {},
     "output_type": "execute_result"
    }
   ],
   "source": [
    "unpivot['value'].value_counts()"
   ]
  },
  {
   "cell_type": "code",
   "execution_count": null,
   "id": "390e8bee-c5d2-4634-92c1-36f905f794c3",
   "metadata": {},
   "outputs": [],
   "source": []
  }
 ],
 "metadata": {
  "kernelspec": {
   "display_name": "Python 3 (ipykernel)",
   "language": "python",
   "name": "python3"
  },
  "language_info": {
   "codemirror_mode": {
    "name": "ipython",
    "version": 3
   },
   "file_extension": ".py",
   "mimetype": "text/x-python",
   "name": "python",
   "nbconvert_exporter": "python",
   "pygments_lexer": "ipython3",
   "version": "3.10.0"
  }
 },
 "nbformat": 4,
 "nbformat_minor": 5
}
