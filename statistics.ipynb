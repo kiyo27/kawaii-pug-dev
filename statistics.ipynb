{
 "cells": [
  {
   "cell_type": "code",
   "execution_count": 20,
   "id": "129cd506-5f5f-44ce-a2de-0965e5bde2b3",
   "metadata": {},
   "outputs": [],
   "source": [
    "import pandas as pd"
   ]
  },
  {
   "cell_type": "code",
   "execution_count": 50,
   "id": "51b87f05-c410-4c1f-af22-90611b01be24",
   "metadata": {},
   "outputs": [],
   "source": [
    "df = pd.read_csv('result.csv')"
   ]
  },
  {
   "cell_type": "code",
   "execution_count": 51,
   "id": "3800ea22-b2e3-446d-a2e8-f1f609560e40",
   "metadata": {},
   "outputs": [],
   "source": [
    "unpivot = df.melt(id_vars='id')\n"
   ]
  },
  {
   "cell_type": "code",
   "execution_count": 52,
   "id": "7a17e0b6-8e82-4787-890b-a3ce0c2a4c18",
   "metadata": {},
   "outputs": [
    {
     "data": {
      "text/plain": [
       "1                     1000\n",
       "sleeping               472\n",
       "basic                  446\n",
       "metallic               278\n",
       "green-collar           266\n",
       "scarf                  257\n",
       "PhantomPug             253\n",
       "Pug                    230\n",
       "KabukiPug              219\n",
       "kabuki                 219\n",
       "SleepingPug            164\n",
       "AnonyPug               134\n",
       "vape                    80\n",
       "cigarette               77\n",
       "tongue                  71\n",
       "pipe                    62\n",
       "medical-mask            61\n",
       "rainbow                 57\n",
       "classic-shades          45\n",
       "regular-shades          41\n",
       "vr                      40\n",
       "3d-glasses              40\n",
       "big-hat                 40\n",
       "wizard-hat              36\n",
       "nerd-glasses            36\n",
       "black-glasses           35\n",
       "hat-and-flower          34\n",
       "horned-rim-glasses      34\n",
       "cap-forward             34\n",
       "mohawk                  33\n",
       "head-light              33\n",
       "hachimaki               33\n",
       "police-cap              32\n",
       "eye-mask                32\n",
       "demon                   32\n",
       "tassle-hat              32\n",
       "headband                32\n",
       "kasa                    30\n",
       "fedora                  30\n",
       "top-hat                 30\n",
       "knitted-cap             30\n",
       "eye-patch               29\n",
       "welding-goggles         29\n",
       "silk-hat                27\n",
       "pilot-helmet            27\n",
       "bucket-hat              27\n",
       "straw-hat               27\n",
       "big-shades              26\n",
       "stripe-ribbon           26\n",
       "bandana                 26\n",
       "hat-and-goggle          26\n",
       "blue-eye-shadow         25\n",
       "cap                     25\n",
       "casual-knitted-cap      25\n",
       "crown                   25\n",
       "chonmage                24\n",
       "cowboy-hat              21\n",
       "mafia-glasses           20\n",
       "beanie                  20\n",
       "headphone               19\n",
       "purple-eye-shadow       17\n",
       "clown-nose              14\n",
       "cross-eyed              13\n",
       "golden-ears              7\n",
       "green-ears               6\n",
       "Name: value, dtype: int64"
      ]
     },
     "execution_count": 52,
     "metadata": {},
     "output_type": "execute_result"
    }
   ],
   "source": [
    "pd.set_option('display.max_rows', None)\n",
    "unpivot['value'].value_counts()"
   ]
  },
  {
   "cell_type": "code",
   "execution_count": null,
   "id": "390e8bee-c5d2-4634-92c1-36f905f794c3",
   "metadata": {},
   "outputs": [],
   "source": []
  }
 ],
 "metadata": {
  "kernelspec": {
   "display_name": "Python 3 (ipykernel)",
   "language": "python",
   "name": "python3"
  },
  "language_info": {
   "codemirror_mode": {
    "name": "ipython",
    "version": 3
   },
   "file_extension": ".py",
   "mimetype": "text/x-python",
   "name": "python",
   "nbconvert_exporter": "python",
   "pygments_lexer": "ipython3",
   "version": "3.10.0"
  }
 },
 "nbformat": 4,
 "nbformat_minor": 5
}
